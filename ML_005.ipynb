{
  "nbformat": 4,
  "nbformat_minor": 0,
  "metadata": {
    "colab": {
      "name": "ML 005.ipynb",
      "provenance": [],
      "authorship_tag": "ABX9TyMtvQ3EqvJs6ZWsqI/Sgn13",
      "include_colab_link": true
    },
    "kernelspec": {
      "name": "python3",
      "display_name": "Python 3"
    }
  },
  "cells": [
    {
      "cell_type": "markdown",
      "metadata": {
        "id": "view-in-github",
        "colab_type": "text"
      },
      "source": [
        "<a href=\"https://colab.research.google.com/github/victorananias/alura-machine-learning-001/blob/master/ML_005.ipynb\" target=\"_parent\"><img src=\"https://colab.research.google.com/assets/colab-badge.svg\" alt=\"Open In Colab\"/></a>"
      ]
    },
    {
      "cell_type": "code",
      "metadata": {
        "colab": {
          "base_uri": "https://localhost:8080/",
          "height": 204
        },
        "id": "74g9MFtRJYmC",
        "outputId": "01eb3a30-9f84-4af5-f064-63791c9e8918"
      },
      "source": [
        "import pandas as pd\r\n",
        "\r\n",
        "uri = 'https://gist.githubusercontent.com/guilhermesilveira/4d1d4a16ccbf6ea4e0a64a38a24ec884/raw/afd05cb0c796d18f3f5a6537053ded308ba94bf7/car-prices.csv'\r\n",
        "dataframe = pd.read_csv(uri)\r\n",
        "dataframe.head()"
      ],
      "execution_count": null,
      "outputs": [
        {
          "output_type": "execute_result",
          "data": {
            "text/html": [
              "<div>\n",
              "<style scoped>\n",
              "    .dataframe tbody tr th:only-of-type {\n",
              "        vertical-align: middle;\n",
              "    }\n",
              "\n",
              "    .dataframe tbody tr th {\n",
              "        vertical-align: top;\n",
              "    }\n",
              "\n",
              "    .dataframe thead th {\n",
              "        text-align: right;\n",
              "    }\n",
              "</style>\n",
              "<table border=\"1\" class=\"dataframe\">\n",
              "  <thead>\n",
              "    <tr style=\"text-align: right;\">\n",
              "      <th></th>\n",
              "      <th>Unnamed: 0</th>\n",
              "      <th>mileage_per_year</th>\n",
              "      <th>model_year</th>\n",
              "      <th>price</th>\n",
              "      <th>sold</th>\n",
              "    </tr>\n",
              "  </thead>\n",
              "  <tbody>\n",
              "    <tr>\n",
              "      <th>0</th>\n",
              "      <td>0</td>\n",
              "      <td>21801</td>\n",
              "      <td>2000</td>\n",
              "      <td>30941.02</td>\n",
              "      <td>yes</td>\n",
              "    </tr>\n",
              "    <tr>\n",
              "      <th>1</th>\n",
              "      <td>1</td>\n",
              "      <td>7843</td>\n",
              "      <td>1998</td>\n",
              "      <td>40557.96</td>\n",
              "      <td>yes</td>\n",
              "    </tr>\n",
              "    <tr>\n",
              "      <th>2</th>\n",
              "      <td>2</td>\n",
              "      <td>7109</td>\n",
              "      <td>2006</td>\n",
              "      <td>89627.50</td>\n",
              "      <td>no</td>\n",
              "    </tr>\n",
              "    <tr>\n",
              "      <th>3</th>\n",
              "      <td>3</td>\n",
              "      <td>26823</td>\n",
              "      <td>2015</td>\n",
              "      <td>95276.14</td>\n",
              "      <td>no</td>\n",
              "    </tr>\n",
              "    <tr>\n",
              "      <th>4</th>\n",
              "      <td>4</td>\n",
              "      <td>7935</td>\n",
              "      <td>2014</td>\n",
              "      <td>117384.68</td>\n",
              "      <td>yes</td>\n",
              "    </tr>\n",
              "  </tbody>\n",
              "</table>\n",
              "</div>"
            ],
            "text/plain": [
              "   Unnamed: 0  mileage_per_year  model_year      price sold\n",
              "0           0             21801        2000   30941.02  yes\n",
              "1           1              7843        1998   40557.96  yes\n",
              "2           2              7109        2006   89627.50   no\n",
              "3           3             26823        2015   95276.14   no\n",
              "4           4              7935        2014  117384.68  yes"
            ]
          },
          "metadata": {
            "tags": []
          },
          "execution_count": 2
        }
      ]
    },
    {
      "cell_type": "code",
      "metadata": {
        "colab": {
          "base_uri": "https://localhost:8080/",
          "height": 204
        },
        "id": "9dPOtdZEKlaS",
        "outputId": "d1fc975b-7443-4fbb-d29a-7a7ada62a87b"
      },
      "source": [
        "swap = {\r\n",
        "    'no': 0,\r\n",
        "    'yes': 1\r\n",
        "}\r\n",
        "\r\n",
        "dataframe.sold = dataframe.sold.map(swap)\r\n",
        "dataframe.head()"
      ],
      "execution_count": null,
      "outputs": [
        {
          "output_type": "execute_result",
          "data": {
            "text/html": [
              "<div>\n",
              "<style scoped>\n",
              "    .dataframe tbody tr th:only-of-type {\n",
              "        vertical-align: middle;\n",
              "    }\n",
              "\n",
              "    .dataframe tbody tr th {\n",
              "        vertical-align: top;\n",
              "    }\n",
              "\n",
              "    .dataframe thead th {\n",
              "        text-align: right;\n",
              "    }\n",
              "</style>\n",
              "<table border=\"1\" class=\"dataframe\">\n",
              "  <thead>\n",
              "    <tr style=\"text-align: right;\">\n",
              "      <th></th>\n",
              "      <th>Unnamed: 0</th>\n",
              "      <th>mileage_per_year</th>\n",
              "      <th>model_year</th>\n",
              "      <th>price</th>\n",
              "      <th>sold</th>\n",
              "    </tr>\n",
              "  </thead>\n",
              "  <tbody>\n",
              "    <tr>\n",
              "      <th>0</th>\n",
              "      <td>0</td>\n",
              "      <td>21801</td>\n",
              "      <td>2000</td>\n",
              "      <td>30941.02</td>\n",
              "      <td>1</td>\n",
              "    </tr>\n",
              "    <tr>\n",
              "      <th>1</th>\n",
              "      <td>1</td>\n",
              "      <td>7843</td>\n",
              "      <td>1998</td>\n",
              "      <td>40557.96</td>\n",
              "      <td>1</td>\n",
              "    </tr>\n",
              "    <tr>\n",
              "      <th>2</th>\n",
              "      <td>2</td>\n",
              "      <td>7109</td>\n",
              "      <td>2006</td>\n",
              "      <td>89627.50</td>\n",
              "      <td>0</td>\n",
              "    </tr>\n",
              "    <tr>\n",
              "      <th>3</th>\n",
              "      <td>3</td>\n",
              "      <td>26823</td>\n",
              "      <td>2015</td>\n",
              "      <td>95276.14</td>\n",
              "      <td>0</td>\n",
              "    </tr>\n",
              "    <tr>\n",
              "      <th>4</th>\n",
              "      <td>4</td>\n",
              "      <td>7935</td>\n",
              "      <td>2014</td>\n",
              "      <td>117384.68</td>\n",
              "      <td>1</td>\n",
              "    </tr>\n",
              "  </tbody>\n",
              "</table>\n",
              "</div>"
            ],
            "text/plain": [
              "   Unnamed: 0  mileage_per_year  model_year      price  sold\n",
              "0           0             21801        2000   30941.02     1\n",
              "1           1              7843        1998   40557.96     1\n",
              "2           2              7109        2006   89627.50     0\n",
              "3           3             26823        2015   95276.14     0\n",
              "4           4              7935        2014  117384.68     1"
            ]
          },
          "metadata": {
            "tags": []
          },
          "execution_count": 3
        }
      ]
    },
    {
      "cell_type": "code",
      "metadata": {
        "colab": {
          "base_uri": "https://localhost:8080/",
          "height": 204
        },
        "id": "5N-oe33oK-Ie",
        "outputId": "92809aa6-ef2e-4294-f416-d1631b64f06f"
      },
      "source": [
        "from datetime import datetime\r\n",
        "\r\n",
        "current_year = datetime.today().year\r\n",
        "dataframe['model_age'] = current_year - dataframe.model_year\r\n",
        "dataframe.head()"
      ],
      "execution_count": null,
      "outputs": [
        {
          "output_type": "execute_result",
          "data": {
            "text/html": [
              "<div>\n",
              "<style scoped>\n",
              "    .dataframe tbody tr th:only-of-type {\n",
              "        vertical-align: middle;\n",
              "    }\n",
              "\n",
              "    .dataframe tbody tr th {\n",
              "        vertical-align: top;\n",
              "    }\n",
              "\n",
              "    .dataframe thead th {\n",
              "        text-align: right;\n",
              "    }\n",
              "</style>\n",
              "<table border=\"1\" class=\"dataframe\">\n",
              "  <thead>\n",
              "    <tr style=\"text-align: right;\">\n",
              "      <th></th>\n",
              "      <th>Unnamed: 0</th>\n",
              "      <th>mileage_per_year</th>\n",
              "      <th>model_year</th>\n",
              "      <th>price</th>\n",
              "      <th>sold</th>\n",
              "      <th>model_age</th>\n",
              "    </tr>\n",
              "  </thead>\n",
              "  <tbody>\n",
              "    <tr>\n",
              "      <th>0</th>\n",
              "      <td>0</td>\n",
              "      <td>21801</td>\n",
              "      <td>2000</td>\n",
              "      <td>30941.02</td>\n",
              "      <td>1</td>\n",
              "      <td>21</td>\n",
              "    </tr>\n",
              "    <tr>\n",
              "      <th>1</th>\n",
              "      <td>1</td>\n",
              "      <td>7843</td>\n",
              "      <td>1998</td>\n",
              "      <td>40557.96</td>\n",
              "      <td>1</td>\n",
              "      <td>23</td>\n",
              "    </tr>\n",
              "    <tr>\n",
              "      <th>2</th>\n",
              "      <td>2</td>\n",
              "      <td>7109</td>\n",
              "      <td>2006</td>\n",
              "      <td>89627.50</td>\n",
              "      <td>0</td>\n",
              "      <td>15</td>\n",
              "    </tr>\n",
              "    <tr>\n",
              "      <th>3</th>\n",
              "      <td>3</td>\n",
              "      <td>26823</td>\n",
              "      <td>2015</td>\n",
              "      <td>95276.14</td>\n",
              "      <td>0</td>\n",
              "      <td>6</td>\n",
              "    </tr>\n",
              "    <tr>\n",
              "      <th>4</th>\n",
              "      <td>4</td>\n",
              "      <td>7935</td>\n",
              "      <td>2014</td>\n",
              "      <td>117384.68</td>\n",
              "      <td>1</td>\n",
              "      <td>7</td>\n",
              "    </tr>\n",
              "  </tbody>\n",
              "</table>\n",
              "</div>"
            ],
            "text/plain": [
              "   Unnamed: 0  mileage_per_year  model_year      price  sold  model_age\n",
              "0           0             21801        2000   30941.02     1         21\n",
              "1           1              7843        1998   40557.96     1         23\n",
              "2           2              7109        2006   89627.50     0         15\n",
              "3           3             26823        2015   95276.14     0          6\n",
              "4           4              7935        2014  117384.68     1          7"
            ]
          },
          "metadata": {
            "tags": []
          },
          "execution_count": 4
        }
      ]
    },
    {
      "cell_type": "code",
      "metadata": {
        "colab": {
          "base_uri": "https://localhost:8080/",
          "height": 204
        },
        "id": "TygQQaNyLhLP",
        "outputId": "4debbaed-3494-4999-ef7b-ab43a8827824"
      },
      "source": [
        "dataframe['kilometres_per_year'] = dataframe.mileage_per_year * 1.60934\r\n",
        "dataframe.head()"
      ],
      "execution_count": null,
      "outputs": [
        {
          "output_type": "execute_result",
          "data": {
            "text/html": [
              "<div>\n",
              "<style scoped>\n",
              "    .dataframe tbody tr th:only-of-type {\n",
              "        vertical-align: middle;\n",
              "    }\n",
              "\n",
              "    .dataframe tbody tr th {\n",
              "        vertical-align: top;\n",
              "    }\n",
              "\n",
              "    .dataframe thead th {\n",
              "        text-align: right;\n",
              "    }\n",
              "</style>\n",
              "<table border=\"1\" class=\"dataframe\">\n",
              "  <thead>\n",
              "    <tr style=\"text-align: right;\">\n",
              "      <th></th>\n",
              "      <th>Unnamed: 0</th>\n",
              "      <th>mileage_per_year</th>\n",
              "      <th>model_year</th>\n",
              "      <th>price</th>\n",
              "      <th>sold</th>\n",
              "      <th>model_age</th>\n",
              "      <th>kilometres_per_year</th>\n",
              "    </tr>\n",
              "  </thead>\n",
              "  <tbody>\n",
              "    <tr>\n",
              "      <th>0</th>\n",
              "      <td>0</td>\n",
              "      <td>21801</td>\n",
              "      <td>2000</td>\n",
              "      <td>30941.02</td>\n",
              "      <td>1</td>\n",
              "      <td>21</td>\n",
              "      <td>35085.22134</td>\n",
              "    </tr>\n",
              "    <tr>\n",
              "      <th>1</th>\n",
              "      <td>1</td>\n",
              "      <td>7843</td>\n",
              "      <td>1998</td>\n",
              "      <td>40557.96</td>\n",
              "      <td>1</td>\n",
              "      <td>23</td>\n",
              "      <td>12622.05362</td>\n",
              "    </tr>\n",
              "    <tr>\n",
              "      <th>2</th>\n",
              "      <td>2</td>\n",
              "      <td>7109</td>\n",
              "      <td>2006</td>\n",
              "      <td>89627.50</td>\n",
              "      <td>0</td>\n",
              "      <td>15</td>\n",
              "      <td>11440.79806</td>\n",
              "    </tr>\n",
              "    <tr>\n",
              "      <th>3</th>\n",
              "      <td>3</td>\n",
              "      <td>26823</td>\n",
              "      <td>2015</td>\n",
              "      <td>95276.14</td>\n",
              "      <td>0</td>\n",
              "      <td>6</td>\n",
              "      <td>43167.32682</td>\n",
              "    </tr>\n",
              "    <tr>\n",
              "      <th>4</th>\n",
              "      <td>4</td>\n",
              "      <td>7935</td>\n",
              "      <td>2014</td>\n",
              "      <td>117384.68</td>\n",
              "      <td>1</td>\n",
              "      <td>7</td>\n",
              "      <td>12770.11290</td>\n",
              "    </tr>\n",
              "  </tbody>\n",
              "</table>\n",
              "</div>"
            ],
            "text/plain": [
              "   Unnamed: 0  mileage_per_year  ...  model_age  kilometres_per_year\n",
              "0           0             21801  ...         21          35085.22134\n",
              "1           1              7843  ...         23          12622.05362\n",
              "2           2              7109  ...         15          11440.79806\n",
              "3           3             26823  ...          6          43167.32682\n",
              "4           4              7935  ...          7          12770.11290\n",
              "\n",
              "[5 rows x 7 columns]"
            ]
          },
          "metadata": {
            "tags": []
          },
          "execution_count": 5
        }
      ]
    },
    {
      "cell_type": "code",
      "metadata": {
        "colab": {
          "base_uri": "https://localhost:8080/",
          "height": 204
        },
        "id": "zCRM4Ui8MGMD",
        "outputId": "748535b2-a925-49c0-d824-5ebe2304eaf7"
      },
      "source": [
        "dataframe = dataframe.drop(columns = ['Unnamed: 0', 'mileage_per_year', 'model_year'], axis = 1)\r\n",
        "dataframe.head()"
      ],
      "execution_count": null,
      "outputs": [
        {
          "output_type": "execute_result",
          "data": {
            "text/html": [
              "<div>\n",
              "<style scoped>\n",
              "    .dataframe tbody tr th:only-of-type {\n",
              "        vertical-align: middle;\n",
              "    }\n",
              "\n",
              "    .dataframe tbody tr th {\n",
              "        vertical-align: top;\n",
              "    }\n",
              "\n",
              "    .dataframe thead th {\n",
              "        text-align: right;\n",
              "    }\n",
              "</style>\n",
              "<table border=\"1\" class=\"dataframe\">\n",
              "  <thead>\n",
              "    <tr style=\"text-align: right;\">\n",
              "      <th></th>\n",
              "      <th>price</th>\n",
              "      <th>sold</th>\n",
              "      <th>model_age</th>\n",
              "      <th>kilometres_per_year</th>\n",
              "    </tr>\n",
              "  </thead>\n",
              "  <tbody>\n",
              "    <tr>\n",
              "      <th>0</th>\n",
              "      <td>30941.02</td>\n",
              "      <td>1</td>\n",
              "      <td>21</td>\n",
              "      <td>35085.22134</td>\n",
              "    </tr>\n",
              "    <tr>\n",
              "      <th>1</th>\n",
              "      <td>40557.96</td>\n",
              "      <td>1</td>\n",
              "      <td>23</td>\n",
              "      <td>12622.05362</td>\n",
              "    </tr>\n",
              "    <tr>\n",
              "      <th>2</th>\n",
              "      <td>89627.50</td>\n",
              "      <td>0</td>\n",
              "      <td>15</td>\n",
              "      <td>11440.79806</td>\n",
              "    </tr>\n",
              "    <tr>\n",
              "      <th>3</th>\n",
              "      <td>95276.14</td>\n",
              "      <td>0</td>\n",
              "      <td>6</td>\n",
              "      <td>43167.32682</td>\n",
              "    </tr>\n",
              "    <tr>\n",
              "      <th>4</th>\n",
              "      <td>117384.68</td>\n",
              "      <td>1</td>\n",
              "      <td>7</td>\n",
              "      <td>12770.11290</td>\n",
              "    </tr>\n",
              "  </tbody>\n",
              "</table>\n",
              "</div>"
            ],
            "text/plain": [
              "       price  sold  model_age  kilometres_per_year\n",
              "0   30941.02     1         21          35085.22134\n",
              "1   40557.96     1         23          12622.05362\n",
              "2   89627.50     0         15          11440.79806\n",
              "3   95276.14     0          6          43167.32682\n",
              "4  117384.68     1          7          12770.11290"
            ]
          },
          "metadata": {
            "tags": []
          },
          "execution_count": 6
        }
      ]
    },
    {
      "cell_type": "code",
      "metadata": {
        "colab": {
          "base_uri": "https://localhost:8080/"
        },
        "id": "CvzyIBD6MmAy",
        "outputId": "97bc3b4a-cbae-400c-9591-8aa6f566ddc6"
      },
      "source": [
        "# LinearSVC\r\n",
        "import numpy as np\r\n",
        "from sklearn.model_selection import train_test_split\r\n",
        "from sklearn.svm import LinearSVC\r\n",
        "from sklearn.metrics import accuracy_score\r\n",
        "\r\n",
        "x = dataframe[['price', 'model_age', 'kilometres_per_year']]\r\n",
        "y = dataframe['sold']\r\n",
        "\r\n",
        "SEED = 5\r\n",
        "np.random.seed(SEED)\r\n",
        "train_x, test_x, train_y, test_y = train_test_split(x, y, test_size = 0.25, stratify = y)\r\n",
        "\r\n",
        "print(\"Treinaremos com %d elementos e testaremos com %d elementos\" % (len(train_x), len(test_x)))\r\n",
        "\r\n",
        "model = LinearSVC()\r\n",
        "model.fit(train_x, train_y)\r\n",
        "predictions = model.predict(test_x)\r\n",
        "\r\n",
        "accuracy = accuracy_score(test_y, predictions) * 100\r\n",
        "print(\"A acurácia foi %.2f%%\" % accuracy)\r\n"
      ],
      "execution_count": null,
      "outputs": [
        {
          "output_type": "stream",
          "text": [
            "Treinaremos com 7500 elementos e testaremos com 2500 elementos\n",
            "A acurácia foi 62.80%\n"
          ],
          "name": "stdout"
        },
        {
          "output_type": "stream",
          "text": [
            "/usr/local/lib/python3.6/dist-packages/sklearn/svm/_base.py:947: ConvergenceWarning: Liblinear failed to converge, increase the number of iterations.\n",
            "  \"the number of iterations.\", ConvergenceWarning)\n"
          ],
          "name": "stderr"
        }
      ]
    },
    {
      "cell_type": "code",
      "metadata": {
        "colab": {
          "base_uri": "https://localhost:8080/"
        },
        "id": "NLZwaYhWNgN8",
        "outputId": "71fbb7e8-5349-4d11-a918-ebe61e1f26db"
      },
      "source": [
        "# Dummy strategy='stratified'\r\n",
        "from sklearn.dummy import DummyClassifier\r\n",
        "\r\n",
        "dummy_stratified = DummyClassifier(strategy='stratified')\r\n",
        "dummy_stratified.fit(train_x, train_y)\r\n",
        "predictions = dummy_stratified.predict(test_x)\r\n",
        "accuracy = accuracy_score(test_y, predictions) * 100\r\n",
        "print(\"A acurácia do dummy stratified foi %.2f%%\" % accuracy)\r\n"
      ],
      "execution_count": null,
      "outputs": [
        {
          "output_type": "stream",
          "text": [
            "A acurácia do dummy stratified foi 52.44%\n"
          ],
          "name": "stdout"
        }
      ]
    },
    {
      "cell_type": "code",
      "metadata": {
        "colab": {
          "base_uri": "https://localhost:8080/"
        },
        "id": "3MA3cpA2QxSe",
        "outputId": "4217e912-fba1-4184-b035-a2d10e7c68c9"
      },
      "source": [
        "# Dummy strategy='most_frequent'\r\n",
        "from sklearn.dummy import DummyClassifier\r\n",
        "\r\n",
        "dummy_mostfrequent = DummyClassifier(strategy='most_frequent')\r\n",
        "dummy_mostfrequent.fit(train_x, train_y)\r\n",
        "predictions = dummy_mostfrequent.predict(test_x)\r\n",
        "accuracy = accuracy_score(test_y, predictions) * 100\r\n",
        "print(\"A acurácia do dummy most frequent foi %.2f%%\" % accuracy)\r\n"
      ],
      "execution_count": null,
      "outputs": [
        {
          "output_type": "stream",
          "text": [
            "A acurácia do dummy most frequent foi 58.00%\n"
          ],
          "name": "stdout"
        }
      ]
    },
    {
      "cell_type": "code",
      "metadata": {
        "colab": {
          "base_uri": "https://localhost:8080/"
        },
        "id": "hcKtkpLlSNFT",
        "outputId": "8b009e6a-b0a7-4fbc-b07e-2ff07ab303e9"
      },
      "source": [
        "# Dummy strategy='stratified' com score\r\n",
        "\r\n",
        "dummy_stratified = DummyClassifier(strategy='stratified')\r\n",
        "dummy_stratified.fit(train_x, train_y)\r\n",
        "accuracy = dummy_stratified.score(test_x, test_y)\r\n",
        "print(\"A acurácia do dummy stratified foi %.2f%%\" % accuracy)\r\n"
      ],
      "execution_count": null,
      "outputs": [
        {
          "output_type": "stream",
          "text": [
            "A acurácia do dummy stratified foi 0.51%\n"
          ],
          "name": "stdout"
        }
      ]
    },
    {
      "cell_type": "code",
      "metadata": {
        "id": "Yu2c7CAnVtkE",
        "colab": {
          "base_uri": "https://localhost:8080/"
        },
        "outputId": "078e0661-3dd4-479c-f9cf-6ef154656ccf"
      },
      "source": [
        "# SVC\r\n",
        "\r\n",
        "from sklearn.preprocessing import StandardScaler\r\n",
        "from sklearn.model_selection import train_test_split\r\n",
        "from sklearn.svm import SVC\r\n",
        "from sklearn.metrics import accuracy_score\r\n",
        "\r\n",
        "SEED = 5\r\n",
        "np.random.seed(SEED)\r\n",
        "\r\n",
        "raw_train_x, raw_test_x, train_y, test_y = train_test_split(x, y, test_size = 0.25, stratify = y)\r\n",
        "\r\n",
        "print(\"Treinaremos com %d elementos e testaremos com %d elementos\" % (len(train_x), len(test_x)))\r\n",
        "\r\n",
        "scaler = StandardScaler()\r\n",
        "scaler.fit(raw_train_x)\r\n",
        "train_x = scaler.transform(raw_train_x)\r\n",
        "test_x = scaler.transform(raw_test_x)\r\n",
        "\r\n",
        "model = SVC()\r\n",
        "model.fit(train_x, train_y)\r\n",
        "predictions = model.predict(test_x)\r\n",
        "\r\n",
        "accuracy = accuracy_score(test_y, predictions) * 100\r\n",
        "print(\"A acurácia foi %.2f%%\" % accuracy)"
      ],
      "execution_count": null,
      "outputs": [
        {
          "output_type": "stream",
          "text": [
            "Treinaremos com 7500 elementos e testaremos com 2500 elementos\n",
            "A acurácia foi 77.48%\n"
          ],
          "name": "stdout"
        }
      ]
    },
    {
      "cell_type": "code",
      "metadata": {
        "id": "ujF3F93AtC9v",
        "colab": {
          "base_uri": "https://localhost:8080/"
        },
        "outputId": "4a16f627-c7f6-4b84-9dd2-71295c92b008"
      },
      "source": [
        "# DecisionTreeClassifier\r\n",
        "\r\n",
        "from sklearn.preprocessing import StandardScaler\r\n",
        "from sklearn.model_selection import train_test_split\r\n",
        "from sklearn.tree import DecisionTreeClassifier\r\n",
        "from sklearn.metrics import accuracy_score\r\n",
        "\r\n",
        "SEED = 5\r\n",
        "np.random.seed(SEED)\r\n",
        "\r\n",
        "train_x, test_x, train_y, test_y = train_test_split(x, y, test_size = 0.25, stratify = y)\r\n",
        "\r\n",
        "print(\"Treinaremos com %d elementos e testaremos com %d elementos\" % (len(train_x), len(test_x)))\r\n",
        "\r\n",
        "model = DecisionTreeClassifier(max_depth = 3)\r\n",
        "model.fit(train_x, train_y)\r\n",
        "predictions = model.predict(test_x)\r\n",
        "\r\n",
        "accuracy = accuracy_score(test_y, predictions) * 100\r\n",
        "print(\"A acurácia foi %.2f%%\" % accuracy)"
      ],
      "execution_count": null,
      "outputs": [
        {
          "output_type": "stream",
          "text": [
            "Treinaremos com 7500 elementos e testaremos com 2500 elementos\n",
            "A acurácia foi 79.28%\n"
          ],
          "name": "stdout"
        }
      ]
    },
    {
      "cell_type": "code",
      "metadata": {
        "colab": {
          "base_uri": "https://localhost:8080/",
          "height": 618
        },
        "id": "FcWqPsksPMqK",
        "outputId": "4f21c1dc-65ed-492c-b873-59cdfcd2e3ee"
      },
      "source": [
        "import graphviz\r\n",
        "from sklearn.tree import export_graphviz\r\n",
        "\r\n",
        "features = x.columns\r\n",
        "\r\n",
        "dot_data = export_graphviz(\r\n",
        "    model, out_file = None,\r\n",
        "    filled = True,\r\n",
        "    rounded = True,\r\n",
        "    feature_names = features,\r\n",
        "    class_names = ['no', 'yes']\r\n",
        ")\r\n",
        "\r\n",
        "graph = graphviz.Source(dot_data)\r\n",
        "graph"
      ],
      "execution_count": null,
      "outputs": [
        {
          "output_type": "execute_result",
          "data": {
            "text/plain": [
              "<graphviz.files.Source at 0x7f5ebed0bfd0>"
            ],
            "image/svg+xml": "<?xml version=\"1.0\" encoding=\"UTF-8\" standalone=\"no\"?>\n<!DOCTYPE svg PUBLIC \"-//W3C//DTD SVG 1.1//EN\"\n \"http://www.w3.org/Graphics/SVG/1.1/DTD/svg11.dtd\">\n<!-- Generated by graphviz version 2.40.1 (20161225.0304)\n -->\n<!-- Title: Tree Pages: 1 -->\n<svg width=\"891pt\" height=\"433pt\"\n viewBox=\"0.00 0.00 891.00 433.00\" xmlns=\"http://www.w3.org/2000/svg\" xmlns:xlink=\"http://www.w3.org/1999/xlink\">\n<g id=\"graph0\" class=\"graph\" transform=\"scale(1 1) rotate(0) translate(4 429)\">\n<title>Tree</title>\n<polygon fill=\"#ffffff\" stroke=\"transparent\" points=\"-4,4 -4,-429 887,-429 887,4 -4,4\"/>\n<!-- 0 -->\n<g id=\"node1\" class=\"node\">\n<title>0</title>\n<path fill=\"#c8e4f8\" stroke=\"#000000\" d=\"M380.5,-425C380.5,-425 255.5,-425 255.5,-425 249.5,-425 243.5,-419 243.5,-413 243.5,-413 243.5,-354 243.5,-354 243.5,-348 249.5,-342 255.5,-342 255.5,-342 380.5,-342 380.5,-342 386.5,-342 392.5,-348 392.5,-354 392.5,-354 392.5,-413 392.5,-413 392.5,-419 386.5,-425 380.5,-425\"/>\n<text text-anchor=\"middle\" x=\"318\" y=\"-409.8\" font-family=\"Helvetica,sans-Serif\" font-size=\"14.00\" fill=\"#000000\">price &lt;= 59999.074</text>\n<text text-anchor=\"middle\" x=\"318\" y=\"-394.8\" font-family=\"Helvetica,sans-Serif\" font-size=\"14.00\" fill=\"#000000\">gini = 0.487</text>\n<text text-anchor=\"middle\" x=\"318\" y=\"-379.8\" font-family=\"Helvetica,sans-Serif\" font-size=\"14.00\" fill=\"#000000\">samples = 7500</text>\n<text text-anchor=\"middle\" x=\"318\" y=\"-364.8\" font-family=\"Helvetica,sans-Serif\" font-size=\"14.00\" fill=\"#000000\">value = [3150, 4350]</text>\n<text text-anchor=\"middle\" x=\"318\" y=\"-349.8\" font-family=\"Helvetica,sans-Serif\" font-size=\"14.00\" fill=\"#000000\">class = yes</text>\n</g>\n<!-- 1 -->\n<g id=\"node2\" class=\"node\">\n<title>1</title>\n<path fill=\"#52aae8\" stroke=\"#000000\" d=\"M272,-306C272,-306 154,-306 154,-306 148,-306 142,-300 142,-294 142,-294 142,-235 142,-235 142,-229 148,-223 154,-223 154,-223 272,-223 272,-223 278,-223 284,-229 284,-235 284,-235 284,-294 284,-294 284,-300 278,-306 272,-306\"/>\n<text text-anchor=\"middle\" x=\"213\" y=\"-290.8\" font-family=\"Helvetica,sans-Serif\" font-size=\"14.00\" fill=\"#000000\">price &lt;= 40070.154</text>\n<text text-anchor=\"middle\" x=\"213\" y=\"-275.8\" font-family=\"Helvetica,sans-Serif\" font-size=\"14.00\" fill=\"#000000\">gini = 0.202</text>\n<text text-anchor=\"middle\" x=\"213\" y=\"-260.8\" font-family=\"Helvetica,sans-Serif\" font-size=\"14.00\" fill=\"#000000\">samples = 3248</text>\n<text text-anchor=\"middle\" x=\"213\" y=\"-245.8\" font-family=\"Helvetica,sans-Serif\" font-size=\"14.00\" fill=\"#000000\">value = [370, 2878]</text>\n<text text-anchor=\"middle\" x=\"213\" y=\"-230.8\" font-family=\"Helvetica,sans-Serif\" font-size=\"14.00\" fill=\"#000000\">class = yes</text>\n</g>\n<!-- 0&#45;&gt;1 -->\n<g id=\"edge1\" class=\"edge\">\n<title>0&#45;&gt;1</title>\n<path fill=\"none\" stroke=\"#000000\" d=\"M281.2761,-341.8796C273.3293,-332.8733 264.851,-323.2644 256.6674,-313.9897\"/>\n<polygon fill=\"#000000\" stroke=\"#000000\" points=\"259.1213,-311.4808 249.8807,-306.2981 253.8725,-316.1122 259.1213,-311.4808\"/>\n<text text-anchor=\"middle\" x=\"248.3212\" y=\"-327.5494\" font-family=\"Helvetica,sans-Serif\" font-size=\"14.00\" fill=\"#000000\">True</text>\n</g>\n<!-- 6 -->\n<g id=\"node7\" class=\"node\">\n<title>6</title>\n<path fill=\"#f3c4a2\" stroke=\"#000000\" d=\"M574,-306C574,-306 356,-306 356,-306 350,-306 344,-300 344,-294 344,-294 344,-235 344,-235 344,-229 350,-223 356,-223 356,-223 574,-223 574,-223 580,-223 586,-229 586,-235 586,-235 586,-294 586,-294 586,-300 580,-306 574,-306\"/>\n<text text-anchor=\"middle\" x=\"465\" y=\"-290.8\" font-family=\"Helvetica,sans-Serif\" font-size=\"14.00\" fill=\"#000000\">kilometres_per_year &lt;= 24112.741</text>\n<text text-anchor=\"middle\" x=\"465\" y=\"-275.8\" font-family=\"Helvetica,sans-Serif\" font-size=\"14.00\" fill=\"#000000\">gini = 0.453</text>\n<text text-anchor=\"middle\" x=\"465\" y=\"-260.8\" font-family=\"Helvetica,sans-Serif\" font-size=\"14.00\" fill=\"#000000\">samples = 4252</text>\n<text text-anchor=\"middle\" x=\"465\" y=\"-245.8\" font-family=\"Helvetica,sans-Serif\" font-size=\"14.00\" fill=\"#000000\">value = [2780, 1472]</text>\n<text text-anchor=\"middle\" x=\"465\" y=\"-230.8\" font-family=\"Helvetica,sans-Serif\" font-size=\"14.00\" fill=\"#000000\">class = no</text>\n</g>\n<!-- 0&#45;&gt;6 -->\n<g id=\"edge6\" class=\"edge\">\n<title>0&#45;&gt;6</title>\n<path fill=\"none\" stroke=\"#000000\" d=\"M369.4135,-341.8796C381.0952,-332.4229 393.5975,-322.302 405.581,-312.6011\"/>\n<polygon fill=\"#000000\" stroke=\"#000000\" points=\"407.7968,-315.3105 413.3671,-306.2981 403.3924,-309.8697 407.7968,-315.3105\"/>\n<text text-anchor=\"middle\" x=\"410.75\" y=\"-327.4607\" font-family=\"Helvetica,sans-Serif\" font-size=\"14.00\" fill=\"#000000\">False</text>\n</g>\n<!-- 2 -->\n<g id=\"node3\" class=\"node\">\n<title>2</title>\n<path fill=\"#399de5\" stroke=\"#000000\" d=\"M112,-179.5C112,-179.5 12,-179.5 12,-179.5 6,-179.5 0,-173.5 0,-167.5 0,-167.5 0,-123.5 0,-123.5 0,-117.5 6,-111.5 12,-111.5 12,-111.5 112,-111.5 112,-111.5 118,-111.5 124,-117.5 124,-123.5 124,-123.5 124,-167.5 124,-167.5 124,-173.5 118,-179.5 112,-179.5\"/>\n<text text-anchor=\"middle\" x=\"62\" y=\"-164.3\" font-family=\"Helvetica,sans-Serif\" font-size=\"14.00\" fill=\"#000000\">gini = 0.0</text>\n<text text-anchor=\"middle\" x=\"62\" y=\"-149.3\" font-family=\"Helvetica,sans-Serif\" font-size=\"14.00\" fill=\"#000000\">samples = 1441</text>\n<text text-anchor=\"middle\" x=\"62\" y=\"-134.3\" font-family=\"Helvetica,sans-Serif\" font-size=\"14.00\" fill=\"#000000\">value = [0, 1441]</text>\n<text text-anchor=\"middle\" x=\"62\" y=\"-119.3\" font-family=\"Helvetica,sans-Serif\" font-size=\"14.00\" fill=\"#000000\">class = yes</text>\n</g>\n<!-- 1&#45;&gt;2 -->\n<g id=\"edge2\" class=\"edge\">\n<title>1&#45;&gt;2</title>\n<path fill=\"none\" stroke=\"#000000\" d=\"M160.1875,-222.8796C145.1183,-211.0038 128.7197,-198.0804 113.7166,-186.2568\"/>\n<polygon fill=\"#000000\" stroke=\"#000000\" points=\"115.5631,-183.2557 105.5425,-179.8149 111.2302,-188.7536 115.5631,-183.2557\"/>\n</g>\n<!-- 3 -->\n<g id=\"node4\" class=\"node\">\n<title>3</title>\n<path fill=\"#6cb6ec\" stroke=\"#000000\" d=\"M272,-187C272,-187 154,-187 154,-187 148,-187 142,-181 142,-175 142,-175 142,-116 142,-116 142,-110 148,-104 154,-104 154,-104 272,-104 272,-104 278,-104 284,-110 284,-116 284,-116 284,-175 284,-175 284,-181 278,-187 272,-187\"/>\n<text text-anchor=\"middle\" x=\"213\" y=\"-171.8\" font-family=\"Helvetica,sans-Serif\" font-size=\"14.00\" fill=\"#000000\">price &lt;= 40723.646</text>\n<text text-anchor=\"middle\" x=\"213\" y=\"-156.8\" font-family=\"Helvetica,sans-Serif\" font-size=\"14.00\" fill=\"#000000\">gini = 0.326</text>\n<text text-anchor=\"middle\" x=\"213\" y=\"-141.8\" font-family=\"Helvetica,sans-Serif\" font-size=\"14.00\" fill=\"#000000\">samples = 1807</text>\n<text text-anchor=\"middle\" x=\"213\" y=\"-126.8\" font-family=\"Helvetica,sans-Serif\" font-size=\"14.00\" fill=\"#000000\">value = [370, 1437]</text>\n<text text-anchor=\"middle\" x=\"213\" y=\"-111.8\" font-family=\"Helvetica,sans-Serif\" font-size=\"14.00\" fill=\"#000000\">class = yes</text>\n</g>\n<!-- 1&#45;&gt;3 -->\n<g id=\"edge3\" class=\"edge\">\n<title>1&#45;&gt;3</title>\n<path fill=\"none\" stroke=\"#000000\" d=\"M213,-222.8796C213,-214.6838 213,-205.9891 213,-197.5013\"/>\n<polygon fill=\"#000000\" stroke=\"#000000\" points=\"216.5001,-197.298 213,-187.2981 209.5001,-197.2981 216.5001,-197.298\"/>\n</g>\n<!-- 4 -->\n<g id=\"node5\" class=\"node\">\n<title>4</title>\n<path fill=\"#9acdf2\" stroke=\"#000000\" d=\"M113,-68C113,-68 21,-68 21,-68 15,-68 9,-62 9,-56 9,-56 9,-12 9,-12 9,-6 15,0 21,0 21,0 113,0 113,0 119,0 125,-6 125,-12 125,-12 125,-56 125,-56 125,-62 119,-68 113,-68\"/>\n<text text-anchor=\"middle\" x=\"67\" y=\"-52.8\" font-family=\"Helvetica,sans-Serif\" font-size=\"14.00\" fill=\"#000000\">gini = 0.441</text>\n<text text-anchor=\"middle\" x=\"67\" y=\"-37.8\" font-family=\"Helvetica,sans-Serif\" font-size=\"14.00\" fill=\"#000000\">samples = 61</text>\n<text text-anchor=\"middle\" x=\"67\" y=\"-22.8\" font-family=\"Helvetica,sans-Serif\" font-size=\"14.00\" fill=\"#000000\">value = [20, 41]</text>\n<text text-anchor=\"middle\" x=\"67\" y=\"-7.8\" font-family=\"Helvetica,sans-Serif\" font-size=\"14.00\" fill=\"#000000\">class = yes</text>\n</g>\n<!-- 3&#45;&gt;4 -->\n<g id=\"edge4\" class=\"edge\">\n<title>3&#45;&gt;4</title>\n<path fill=\"none\" stroke=\"#000000\" d=\"M158.635,-103.9815C145.9989,-94.3313 132.5644,-84.0714 119.9885,-74.4673\"/>\n<polygon fill=\"#000000\" stroke=\"#000000\" points=\"121.9372,-71.5515 111.8654,-68.2637 117.6886,-77.1148 121.9372,-71.5515\"/>\n</g>\n<!-- 5 -->\n<g id=\"node6\" class=\"node\">\n<title>5</title>\n<path fill=\"#6bb6ec\" stroke=\"#000000\" d=\"M271,-68C271,-68 155,-68 155,-68 149,-68 143,-62 143,-56 143,-56 143,-12 143,-12 143,-6 149,0 155,0 155,0 271,0 271,0 277,0 283,-6 283,-12 283,-12 283,-56 283,-56 283,-62 277,-68 271,-68\"/>\n<text text-anchor=\"middle\" x=\"213\" y=\"-52.8\" font-family=\"Helvetica,sans-Serif\" font-size=\"14.00\" fill=\"#000000\">gini = 0.321</text>\n<text text-anchor=\"middle\" x=\"213\" y=\"-37.8\" font-family=\"Helvetica,sans-Serif\" font-size=\"14.00\" fill=\"#000000\">samples = 1746</text>\n<text text-anchor=\"middle\" x=\"213\" y=\"-22.8\" font-family=\"Helvetica,sans-Serif\" font-size=\"14.00\" fill=\"#000000\">value = [350, 1396]</text>\n<text text-anchor=\"middle\" x=\"213\" y=\"-7.8\" font-family=\"Helvetica,sans-Serif\" font-size=\"14.00\" fill=\"#000000\">class = yes</text>\n</g>\n<!-- 3&#45;&gt;5 -->\n<g id=\"edge5\" class=\"edge\">\n<title>3&#45;&gt;5</title>\n<path fill=\"none\" stroke=\"#000000\" d=\"M213,-103.9815C213,-95.618 213,-86.7965 213,-78.3409\"/>\n<polygon fill=\"#000000\" stroke=\"#000000\" points=\"216.5001,-78.2636 213,-68.2637 209.5001,-78.2637 216.5001,-78.2636\"/>\n</g>\n<!-- 7 -->\n<g id=\"node8\" class=\"node\">\n<title>7</title>\n<path fill=\"#fcf0e7\" stroke=\"#000000\" d=\"M527.5,-187C527.5,-187 402.5,-187 402.5,-187 396.5,-187 390.5,-181 390.5,-175 390.5,-175 390.5,-116 390.5,-116 390.5,-110 396.5,-104 402.5,-104 402.5,-104 527.5,-104 527.5,-104 533.5,-104 539.5,-110 539.5,-116 539.5,-116 539.5,-175 539.5,-175 539.5,-181 533.5,-187 527.5,-187\"/>\n<text text-anchor=\"middle\" x=\"465\" y=\"-171.8\" font-family=\"Helvetica,sans-Serif\" font-size=\"14.00\" fill=\"#000000\">price &lt;= 99974.41</text>\n<text text-anchor=\"middle\" x=\"465\" y=\"-156.8\" font-family=\"Helvetica,sans-Serif\" font-size=\"14.00\" fill=\"#000000\">gini = 0.498</text>\n<text text-anchor=\"middle\" x=\"465\" y=\"-141.8\" font-family=\"Helvetica,sans-Serif\" font-size=\"14.00\" fill=\"#000000\">samples = 2649</text>\n<text text-anchor=\"middle\" x=\"465\" y=\"-126.8\" font-family=\"Helvetica,sans-Serif\" font-size=\"14.00\" fill=\"#000000\">value = [1409, 1240]</text>\n<text text-anchor=\"middle\" x=\"465\" y=\"-111.8\" font-family=\"Helvetica,sans-Serif\" font-size=\"14.00\" fill=\"#000000\">class = no</text>\n</g>\n<!-- 6&#45;&gt;7 -->\n<g id=\"edge7\" class=\"edge\">\n<title>6&#45;&gt;7</title>\n<path fill=\"none\" stroke=\"#000000\" d=\"M465,-222.8796C465,-214.6838 465,-205.9891 465,-197.5013\"/>\n<polygon fill=\"#000000\" stroke=\"#000000\" points=\"468.5001,-197.298 465,-187.2981 461.5001,-197.2981 468.5001,-197.298\"/>\n</g>\n<!-- 10 -->\n<g id=\"node11\" class=\"node\">\n<title>10</title>\n<path fill=\"#e9965b\" stroke=\"#000000\" d=\"M738,-187C738,-187 612,-187 612,-187 606,-187 600,-181 600,-175 600,-175 600,-116 600,-116 600,-110 606,-104 612,-104 612,-104 738,-104 738,-104 744,-104 750,-110 750,-116 750,-116 750,-175 750,-175 750,-181 744,-187 738,-187\"/>\n<text text-anchor=\"middle\" x=\"675\" y=\"-171.8\" font-family=\"Helvetica,sans-Serif\" font-size=\"14.00\" fill=\"#000000\">price &lt;= 100076.957</text>\n<text text-anchor=\"middle\" x=\"675\" y=\"-156.8\" font-family=\"Helvetica,sans-Serif\" font-size=\"14.00\" fill=\"#000000\">gini = 0.248</text>\n<text text-anchor=\"middle\" x=\"675\" y=\"-141.8\" font-family=\"Helvetica,sans-Serif\" font-size=\"14.00\" fill=\"#000000\">samples = 1603</text>\n<text text-anchor=\"middle\" x=\"675\" y=\"-126.8\" font-family=\"Helvetica,sans-Serif\" font-size=\"14.00\" fill=\"#000000\">value = [1371, 232]</text>\n<text text-anchor=\"middle\" x=\"675\" y=\"-111.8\" font-family=\"Helvetica,sans-Serif\" font-size=\"14.00\" fill=\"#000000\">class = no</text>\n</g>\n<!-- 6&#45;&gt;10 -->\n<g id=\"edge10\" class=\"edge\">\n<title>6&#45;&gt;10</title>\n<path fill=\"none\" stroke=\"#000000\" d=\"M538.4478,-222.8796C556.0323,-212.915 574.9183,-202.2129 592.8674,-192.0418\"/>\n<polygon fill=\"#000000\" stroke=\"#000000\" points=\"594.619,-195.0722 601.5937,-187.0969 591.1679,-188.982 594.619,-195.0722\"/>\n</g>\n<!-- 8 -->\n<g id=\"node9\" class=\"node\">\n<title>8</title>\n<path fill=\"#f9e0cf\" stroke=\"#000000\" d=\"M429,-68C429,-68 313,-68 313,-68 307,-68 301,-62 301,-56 301,-56 301,-12 301,-12 301,-6 307,0 313,0 313,0 429,0 429,0 435,0 441,-6 441,-12 441,-12 441,-56 441,-56 441,-62 435,-68 429,-68\"/>\n<text text-anchor=\"middle\" x=\"371\" y=\"-52.8\" font-family=\"Helvetica,sans-Serif\" font-size=\"14.00\" fill=\"#000000\">gini = 0.49</text>\n<text text-anchor=\"middle\" x=\"371\" y=\"-37.8\" font-family=\"Helvetica,sans-Serif\" font-size=\"14.00\" fill=\"#000000\">samples = 2223</text>\n<text text-anchor=\"middle\" x=\"371\" y=\"-22.8\" font-family=\"Helvetica,sans-Serif\" font-size=\"14.00\" fill=\"#000000\">value = [1266, 957]</text>\n<text text-anchor=\"middle\" x=\"371\" y=\"-7.8\" font-family=\"Helvetica,sans-Serif\" font-size=\"14.00\" fill=\"#000000\">class = no</text>\n</g>\n<!-- 7&#45;&gt;8 -->\n<g id=\"edge8\" class=\"edge\">\n<title>7&#45;&gt;8</title>\n<path fill=\"none\" stroke=\"#000000\" d=\"M429.9979,-103.9815C422.3272,-94.8828 414.1995,-85.242 406.5091,-76.1199\"/>\n<polygon fill=\"#000000\" stroke=\"#000000\" points=\"409.0075,-73.6533 399.886,-68.2637 403.6556,-78.1652 409.0075,-73.6533\"/>\n</g>\n<!-- 9 -->\n<g id=\"node10\" class=\"node\">\n<title>9</title>\n<path fill=\"#9dcff2\" stroke=\"#000000\" d=\"M579,-68C579,-68 471,-68 471,-68 465,-68 459,-62 459,-56 459,-56 459,-12 459,-12 459,-6 465,0 471,0 471,0 579,0 579,0 585,0 591,-6 591,-12 591,-12 591,-56 591,-56 591,-62 585,-68 579,-68\"/>\n<text text-anchor=\"middle\" x=\"525\" y=\"-52.8\" font-family=\"Helvetica,sans-Serif\" font-size=\"14.00\" fill=\"#000000\">gini = 0.446</text>\n<text text-anchor=\"middle\" x=\"525\" y=\"-37.8\" font-family=\"Helvetica,sans-Serif\" font-size=\"14.00\" fill=\"#000000\">samples = 426</text>\n<text text-anchor=\"middle\" x=\"525\" y=\"-22.8\" font-family=\"Helvetica,sans-Serif\" font-size=\"14.00\" fill=\"#000000\">value = [143, 283]</text>\n<text text-anchor=\"middle\" x=\"525\" y=\"-7.8\" font-family=\"Helvetica,sans-Serif\" font-size=\"14.00\" fill=\"#000000\">class = yes</text>\n</g>\n<!-- 7&#45;&gt;9 -->\n<g id=\"edge9\" class=\"edge\">\n<title>7&#45;&gt;9</title>\n<path fill=\"none\" stroke=\"#000000\" d=\"M487.3418,-103.9815C492.0402,-95.2504 497.0071,-86.0202 501.7383,-77.2281\"/>\n<polygon fill=\"#000000\" stroke=\"#000000\" points=\"504.9056,-78.7282 506.5621,-68.2637 498.7414,-75.4111 504.9056,-78.7282\"/>\n</g>\n<!-- 11 -->\n<g id=\"node12\" class=\"node\">\n<title>11</title>\n<path fill=\"#e68742\" stroke=\"#000000\" d=\"M729,-68C729,-68 621,-68 621,-68 615,-68 609,-62 609,-56 609,-56 609,-12 609,-12 609,-6 615,0 621,0 621,0 729,0 729,0 735,0 741,-6 741,-12 741,-12 741,-56 741,-56 741,-62 735,-68 729,-68\"/>\n<text text-anchor=\"middle\" x=\"675\" y=\"-52.8\" font-family=\"Helvetica,sans-Serif\" font-size=\"14.00\" fill=\"#000000\">gini = 0.086</text>\n<text text-anchor=\"middle\" x=\"675\" y=\"-37.8\" font-family=\"Helvetica,sans-Serif\" font-size=\"14.00\" fill=\"#000000\">samples = 1356</text>\n<text text-anchor=\"middle\" x=\"675\" y=\"-22.8\" font-family=\"Helvetica,sans-Serif\" font-size=\"14.00\" fill=\"#000000\">value = [1295, 61]</text>\n<text text-anchor=\"middle\" x=\"675\" y=\"-7.8\" font-family=\"Helvetica,sans-Serif\" font-size=\"14.00\" fill=\"#000000\">class = no</text>\n</g>\n<!-- 10&#45;&gt;11 -->\n<g id=\"edge11\" class=\"edge\">\n<title>10&#45;&gt;11</title>\n<path fill=\"none\" stroke=\"#000000\" d=\"M675,-103.9815C675,-95.618 675,-86.7965 675,-78.3409\"/>\n<polygon fill=\"#000000\" stroke=\"#000000\" points=\"678.5001,-78.2636 675,-68.2637 671.5001,-78.2637 678.5001,-78.2636\"/>\n</g>\n<!-- 12 -->\n<g id=\"node13\" class=\"node\">\n<title>12</title>\n<path fill=\"#91c9f1\" stroke=\"#000000\" d=\"M871,-68C871,-68 771,-68 771,-68 765,-68 759,-62 759,-56 759,-56 759,-12 759,-12 759,-6 765,0 771,0 771,0 871,0 871,0 877,0 883,-6 883,-12 883,-12 883,-56 883,-56 883,-62 877,-68 871,-68\"/>\n<text text-anchor=\"middle\" x=\"821\" y=\"-52.8\" font-family=\"Helvetica,sans-Serif\" font-size=\"14.00\" fill=\"#000000\">gini = 0.426</text>\n<text text-anchor=\"middle\" x=\"821\" y=\"-37.8\" font-family=\"Helvetica,sans-Serif\" font-size=\"14.00\" fill=\"#000000\">samples = 247</text>\n<text text-anchor=\"middle\" x=\"821\" y=\"-22.8\" font-family=\"Helvetica,sans-Serif\" font-size=\"14.00\" fill=\"#000000\">value = [76, 171]</text>\n<text text-anchor=\"middle\" x=\"821\" y=\"-7.8\" font-family=\"Helvetica,sans-Serif\" font-size=\"14.00\" fill=\"#000000\">class = yes</text>\n</g>\n<!-- 10&#45;&gt;12 -->\n<g id=\"edge12\" class=\"edge\">\n<title>10&#45;&gt;12</title>\n<path fill=\"none\" stroke=\"#000000\" d=\"M729.365,-103.9815C742.0011,-94.3313 755.4356,-84.0714 768.0115,-74.4673\"/>\n<polygon fill=\"#000000\" stroke=\"#000000\" points=\"770.3114,-77.1148 776.1346,-68.2637 766.0628,-71.5515 770.3114,-77.1148\"/>\n</g>\n</g>\n</svg>\n"
          },
          "metadata": {
            "tags": []
          },
          "execution_count": 24
        }
      ]
    },
    {
      "cell_type": "code",
      "metadata": {
        "id": "BHzj5icMQCIc"
      },
      "source": [
        ""
      ],
      "execution_count": null,
      "outputs": []
    }
  ]
}