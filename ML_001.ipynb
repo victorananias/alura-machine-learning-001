{
  "nbformat": 4,
  "nbformat_minor": 0,
  "metadata": {
    "colab": {
      "name": "ML 001.ipynb",
      "provenance": [],
      "collapsed_sections": [],
      "authorship_tag": "ABX9TyP5qti+HvbMKsVkeyaI+mRL",
      "include_colab_link": true
    },
    "kernelspec": {
      "name": "python3",
      "display_name": "Python 3"
    }
  },
  "cells": [
    {
      "cell_type": "markdown",
      "metadata": {
        "id": "view-in-github",
        "colab_type": "text"
      },
      "source": [
        "<a href=\"https://colab.research.google.com/github/victorananias/alura-machine-learning-001/blob/master/ML_001.ipynb\" target=\"_parent\"><img src=\"https://colab.research.google.com/assets/colab-badge.svg\" alt=\"Open In Colab\"/></a>"
      ]
    },
    {
      "cell_type": "code",
      "metadata": {
        "id": "_OgqwrD245RI"
      },
      "source": [
        "# features\r\n",
        "\r\n",
        "# pelo longo?\r\n",
        "# perna curta?\r\n",
        "# faz auau?\r\n",
        "porco1 = [0, 1, 0]\r\n",
        "porco2 = [0, 1, 1]\r\n",
        "porco3 = [1, 1, 0]\r\n",
        "\r\n",
        "cachorro1 = [0, 1, 1]\r\n",
        "cachorro2 = [1, 0, 1]\r\n",
        "cachorro3 = [1, 1, 1]\r\n",
        "\r\n",
        "# 1 = porco; 0 = cachorro\r\n",
        "train_x = [porco1, porco2, porco3, cachorro1, cachorro2, cachorro3]\r\n",
        "train_y = [1, 1, 1, 0, 0, 0]"
      ],
      "execution_count": null,
      "outputs": []
    },
    {
      "cell_type": "code",
      "metadata": {
        "colab": {
          "base_uri": "https://localhost:8080/"
        },
        "id": "ooLugKLg6Wav",
        "outputId": "5aad7c23-f860-43a0-f146-37ff5614c2ff"
      },
      "source": [
        "from sklearn.svm import LinearSVC\r\n",
        "\r\n",
        "model = LinearSVC()\r\n",
        "model.fit(train_x, train_y)"
      ],
      "execution_count": null,
      "outputs": [
        {
          "output_type": "execute_result",
          "data": {
            "text/plain": [
              "LinearSVC(C=1.0, class_weight=None, dual=True, fit_intercept=True,\n",
              "          intercept_scaling=1, loss='squared_hinge', max_iter=1000,\n",
              "          multi_class='ovr', penalty='l2', random_state=None, tol=0.0001,\n",
              "          verbose=0)"
            ]
          },
          "metadata": {
            "tags": []
          },
          "execution_count": 20
        }
      ]
    },
    {
      "cell_type": "code",
      "metadata": {
        "colab": {
          "base_uri": "https://localhost:8080/"
        },
        "id": "3cKNFtZ66WzN",
        "outputId": "d8fe8411-013a-4cee-bbd1-c5217b0a6854"
      },
      "source": [
        "animal_misterioso = [1, 1, 1]\r\n",
        "\r\n",
        "model.predict([animal_misterioso])"
      ],
      "execution_count": null,
      "outputs": [
        {
          "output_type": "execute_result",
          "data": {
            "text/plain": [
              "array([0])"
            ]
          },
          "metadata": {
            "tags": []
          },
          "execution_count": 21
        }
      ]
    },
    {
      "cell_type": "code",
      "metadata": {
        "id": "t1vZj-sq6i1s"
      },
      "source": [
        "misterio1 = [1, 1, 1]\r\n",
        "misterio2 = [1, 1, 0]\r\n",
        "misterio3 = [0, 1, 1]\r\n",
        "\r\n",
        "teste_x = [misterio1, misterio2, misterio3]\r\n",
        "teste_y = [0, 1, 1]"
      ],
      "execution_count": null,
      "outputs": []
    },
    {
      "cell_type": "code",
      "metadata": {
        "id": "jltrs60q61iY"
      },
      "source": [
        "previsoes = model.predict(teste_x)"
      ],
      "execution_count": null,
      "outputs": []
    },
    {
      "cell_type": "code",
      "metadata": {
        "colab": {
          "base_uri": "https://localhost:8080/"
        },
        "id": "hPEoyL5c7vK6",
        "outputId": "bab25ba5-0edf-4fb6-9085-2dc246763446"
      },
      "source": [
        "corretos = (previsoes == teste_y).sum()\r\n",
        "total = len(teste_x)\r\n",
        "taxa_de_acerto = (corretos/total)\r\n",
        "\r\n",
        "print(\"Taxa de acerto:  %.2f\" % (taxa_de_acerto * 100))"
      ],
      "execution_count": null,
      "outputs": [
        {
          "output_type": "stream",
          "text": [
            "Taxa de acerto:  66.67\n"
          ],
          "name": "stdout"
        }
      ]
    },
    {
      "cell_type": "code",
      "metadata": {
        "colab": {
          "base_uri": "https://localhost:8080/"
        },
        "id": "ePmnEsNfH-Tc",
        "outputId": "b0f46af4-05a2-4084-e78a-7f3918abc3ac"
      },
      "source": [
        "from sklearn.metrics import accuracy_score\r\n",
        "\r\n",
        "taxa_de_acerto = accuracy_score(teste_y, previsoes)\r\n",
        "\r\n",
        "print(\"Taxa de acerto:  %.2f\" % (taxa_de_acerto * 100))"
      ],
      "execution_count": null,
      "outputs": [
        {
          "output_type": "stream",
          "text": [
            "Taxa de acerto:  66.67\n"
          ],
          "name": "stdout"
        }
      ]
    },
    {
      "cell_type": "markdown",
      "metadata": {
        "id": "MEaUgvqQIT79"
      },
      "source": [
        ""
      ]
    },
    {
      "cell_type": "code",
      "metadata": {
        "id": "VdVnU47IIPZu"
      },
      "source": [
        ""
      ],
      "execution_count": null,
      "outputs": []
    }
  ]
}